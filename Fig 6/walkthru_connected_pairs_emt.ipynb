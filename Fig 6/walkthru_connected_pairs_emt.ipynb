{
 "cells": [
  {
   "cell_type": "markdown",
   "id": "78f98fcb-5df2-4a53-b7f0-0cdea1892a1d",
   "metadata": {},
   "source": [
    "Libs needed:\n",
    "  - djoshea/trial-data\n",
    "  - djoshea/neuropixel-utils\n",
    "  - djoshea/matlab-utils (maybe?)\n",
    "  - cortex-lab/spikes\n",
    "  - nhp-pixel (zipped)\n",
    "  \n",
    "`djoshea/imatlab` is my Matlab Jupyter kernel, you don't need it\n",
    "  "
   ]
  },
  {
   "cell_type": "code",
   "execution_count": 1,
   "id": "8bb1a2be-c507-4b08-bdbf-adb798d41af0",
   "metadata": {
    "heading_collapsed": "false"
   },
   "outputs": [
    {
     "name": "stdout",
     "output_type": "stream",
     "text": [
      "Warning: Name is nonexistent or not a directory: /Users/erictrautmann/npl\n",
      "> In path (line 109)\n",
      "In addpath (line 86)\n"
     ]
    }
   ],
   "source": [
    "restoredefaultpath\n",
    "addpath ~\n",
    "addpath ~/npl\n",
    "addpath(genpath('~/npl/matlab-utils'))\n",
    "addpath(genpath('~/npl/imatlab'))\n",
    "addpath(genpath('~/npl/neuropixel-utils'))\n",
    "addpath(genpath('~/npl/trial-data'))\n",
    "addpath(genpath(fullfile('~/npl/lib/spikes')));\n",
    "addpath(genpath('~/npl/nhp-pixel/'));\n",
    "\n",
    "setenv('NHP_PIXEL_COMPUTED_ROOT', '/Volumes/emt_ssd_4/data/pacman-task');\n",
    "setenv('NHP_PIXEL_DATA_ROOT', '/Volumes/emt_ssd_4/data/pacman-task')"
   ]
  },
  {
   "cell_type": "code",
   "execution_count": 3,
   "id": "bb9350a9-ef0b-4a63-a9be-f4a978184592",
   "metadata": {
    "heading_collapsed": "false"
   },
   "outputs": [],
   "source": [
    "coderoot = '/Users/erictrautmann/Dropbox/shenoy_lab/code/';\n",
    "addpath(genpath(fullfile(coderoot,'analysis/neuropixelNHP/matlab/connected_pairs')))\n",
    "addpath(genpath(fullfile(coderoot,'matlab-utils')))\n",
    "addpath(genpath(fullfile(coderoot,'trial-data')))\n",
    "addpath(genpath(fullfile(coderoot,'neuropixel-utils')))\n",
    "addpath(genpath(fullfile(coderoot,'spikes')))\n",
    "\n",
    "setenv('NHP_PIXEL_COMPUTED_ROOT', '/data/nhp_pixel/computed');\n",
    "setenv('NHP_PIXEL_DATA_ROOT', '/data/nhp_pixel')"
   ]
  },
  {
   "cell_type": "code",
   "execution_count": 6,
   "id": "d627cf0e-a170-47a2-a6d0-ef5538a1eb6a",
   "metadata": {},
   "outputs": [
    {
     "name": "stdout",
     "output_type": "stream",
     "text": [
      "\n",
      "ans = \n",
      "\n",
      "  0x0 class array with properties:\n",
      "\n",
      "    Name\n",
      "    Description\n",
      "    DetailedDescription\n",
      "    Hidden\n",
      "    Sealed\n",
      "    Abstract\n",
      "    Enumeration\n",
      "    ConstructOnLoad\n",
      "    HandleCompatible\n",
      "    InferiorClasses\n",
      "    ContainingPackage\n",
      "    Aliases\n",
      "    RestrictsSubclassing\n",
      "    PropertyList\n",
      "    MethodList\n",
      "    EventList\n",
      "    EnumerationMemberList\n",
      "    SuperclassList\n",
      "\n"
     ]
    }
   ],
   "source": [
    "desktop"
   ]
  },
  {
   "cell_type": "markdown",
   "id": "1909d28e-06e0-4e79-b6b6-bb0074213cdf",
   "metadata": {
    "tags": []
   },
   "source": [
    "# Use DatasetManager"
   ]
  },
  {
   "cell_type": "code",
   "execution_count": 23,
   "id": "6bbff625-ae66-4840-bf6e-a4657f47919a",
   "metadata": {},
   "outputs": [
    {
     "name": "stdout",
     "output_type": "stream",
     "text": [
      "Warning: /data/nhp_pixel/Cousteau/raw/2021-03-18/blackrock/pacman-task_c_210318_emg_001.ns6 doest not exist\n",
      "> In pacmanPaths>warnIfNotExist (line 112)\n",
      "In pacmanPaths (line 98)\n",
      "\n",
      "paths = \n",
      "\n",
      "  struct with fields:\n",
      "\n",
      "                 prefix: 'pacman-task_c_210318'\n",
      "         prefixBehavior: 'pacman-task_c_210318_beh'\n",
      "             prefixNpix: 'pacman-task_c_210318_neu'\n",
      "             sgDataPath: '/data/nhp_pixel/Cousteau/raw/2021-03-18/speedgoat'\n",
      "             npixApPath: '/data/nhp_pixel/Cousteau/raw/2021-03-18/neuropixels/pacman-task_c_210318_neu_g0/pacman-task_c_210318_neu_g0_imec0/pacman-task_c_210318_neu_g0_t0.imec0.ap.bin'\n",
      "         npixApMetaPath: '/data/nhp_pixel/Cousteau/raw/2021-03-18/neuropixels/pacman-task_c_210318_neu_g0/pacman-task_c_210318_neu_g0_imec0/pacman-task_c_210318_neu_g0_t0.imec0.ap.meta'\n",
      "            npixLfpPath: '/data/nhp_pixel/Cousteau/raw/2021-03-18/neuropixels/pacman-task_c_210318_neu_g0/pacman-task_c_210318_neu_g0_imec0/pacman-task_c_210318_neu_g0_t0.imec0.lf.bin'\n",
      "        npixLfpMetaPath: '/data/nhp_pixel/Cousteau/raw/2021-03-18/neuropixels/pacman-task_c_210318_neu_g0/pacman-task_c_210318_neu_g0_imec0/pacman-task_c_210318_neu_g0_t0.imec0.lf.meta'\n",
      "              nidaqPath: '/data/nhp_pixel/Cousteau/raw/2021-03-18/neuropixels/pacman-task_c_210318_neu_g0/pacman-task_c_210318_neu_g0_t0.nidq.bin'\n",
      "          nidaqMetaPath: '/data/nhp_pixel/Cousteau/raw/2021-03-18/neuropixels/pacman-task_c_210318_neu_g0/pacman-task_c_210318_neu_g0_t0.nidq.meta'\n",
      "          ksResultsPath: '/data/nhp_pixel/Cousteau/processed/2021-03-18/kilosort-manually-sorted/pacman-task_c_210318_neu_g0/pacman-task_c_210318_neu_g0_imec0'\n",
      "             brDataPath: '/data/nhp_pixel/Cousteau/raw/2021-03-18/blackrock/pacman-task_c_210318_emg_001.ns6'\n",
      "    taskTableOutputPath: '/Volumes/churchland-locker/eric/Cousteau/processed/2021-03-18/mergedTaskData/pacman-task_c_210318_taskdata.mat'\n",
      "\n"
     ]
    }
   ],
   "source": [
    "dataRoot = '/data/nhp_pixel/';\n",
    "subject = 'Cousteau';\n",
    "date = '2021-03-18';\n",
    "gNum = 0;\n",
    "tNum = 0;\n",
    "imecNum = 0;\n",
    "padDuration = [.5, 1];\n",
    "SAVE_TAG = [0];\n",
    "syncChan = 3;\n",
    "syncBit = 8;\n",
    "\n",
    "paths = pacmanPaths(dataRoot, subject, date, gNum, tNum, imecNum)"
   ]
  },
  {
   "cell_type": "code",
   "execution_count": 26,
   "id": "856db398-d344-424d-8645-3f68bf1e5a8f",
   "metadata": {},
   "outputs": [
    {
     "name": "stdout",
     "output_type": "stream",
     "text": [
      "Loading Kilosort 2 dataset :      0% [               ]    2.6% [               ]   12.8% [_              ]   15.4% [__             ]   17.9% [__             ]   28.2% [____           ]    100% [_______________]   \n"
     ]
    }
   ],
   "source": [
    "channelMap = Neuropixel.ChannelMap(\"~/npl/nhp-pixel/neuropixNHP_kilosortChanMap_v1.mat\");\n",
    "ks_path = paths.ksResultsPath;\n",
    "\n",
    "% having an imec dataset is optional\n",
    "% imec = Neuropixel.ImecDataset(paths.npixLfpPath, channelMap=channelMap); % or npixApPath\n",
    "% ks_args.imecDataset = imec;\n",
    "\n",
    "ks_args.deduplicate_spikes = true;\n",
    "ks_args.deduplicate_cutoff_spikes = true;\n",
    "ks.deduplicate_within_samples = 5;\n",
    "ks.deduplicate_within_distance = 50;\n",
    "ks = Neuropixel.KilosortDataset(ks_path, 'channelMap', channelMap, ks_args);\n",
    "\n",
    "ks.load(loadFeatures=false);"
   ]
  },
  {
   "cell_type": "code",
   "execution_count": null,
   "id": "52b6ad63-3b02-44ec-bbb8-38f39104d432",
   "metadata": {},
   "outputs": [
    {
     "name": "stdout",
     "output_type": "stream",
     "text": [
      "\u001b[38;2;90;125;154m  95 \u001b[0mComputing raw CCG for entire KS dataset\u001b[0m\n",
      "\u001b[1;44;37m\u001b[48;2;0;7;252mC\u001b[49;37momputing multi-CCG over trials                              2 / 114 [   0.9% ]\u001b[0m "
     ]
    }
   ],
   "source": [
    "cpa = NHPPixel.ConnectedPairsAnalysis(ks)"
   ]
  },
  {
   "cell_type": "code",
   "execution_count": null,
   "id": "9e3f9d16-09f4-4f26-8438-faaa669bdd1f",
   "metadata": {},
   "outputs": [],
   "source": []
  }
 ],
 "metadata": {
  "kernelspec": {
   "display_name": "MATLAB",
   "language": "matlab",
   "name": "imatlab"
  },
  "language_info": {
   "codemirror_mode": "octave",
   "file_extension": ".m",
   "mimetype": "text/x-matlab",
   "name": "matlab",
   "pygments_lexer": "matlab",
   "version": "9.13.0.2049777 (R2022b)"
  }
 },
 "nbformat": 4,
 "nbformat_minor": 5
}
